{
 "cells": [
  {
   "cell_type": "markdown",
   "metadata": {},
   "source": [
    "# <img style=\"float: left; padding-right: 0.7cm; width: 3.0cm\" src=\"https://upload.wikimedia.org/wikipedia/commons/thumb/8/84/Escudo_de_la_Pontificia_Universidad_Cat%C3%B3lica_de_Chile.svg/179px-Escudo_de_la_Pontificia_Universidad_Cat%C3%B3lica_de_Chile.svg.png\"> IMT 2210 - 1 Algebra lineal para Ciencias de Datos.\n",
    "**Pontificia Universidad Católica de Chile**<br>\n",
    "**Semestre 2022-2**<br>\n",
    "**Profesor** Cristobal rojas <br>\n",
    "\n",
    "----"
   ]
  },
  {
   "cell_type": "code",
   "execution_count": 1,
   "metadata": {},
   "outputs": [],
   "source": [
    "from vec import Vec, getitem, setitem, equal, add, dot, scalar_mul, neg\n",
    "from listvec import ListVec\n",
    "from math import sqrt"
   ]
  },
  {
   "cell_type": "markdown",
   "metadata": {},
   "source": [
    "## Sistema Recomendador de Peliculas"
   ]
  },
  {
   "cell_type": "markdown",
   "metadata": {},
   "source": [
    "### a) "
   ]
  },
  {
   "cell_type": "code",
   "execution_count": 19,
   "metadata": {},
   "outputs": [],
   "source": [
    "# Abrimos el archivo 'ratings.csv'\n",
    "archivo = [i.strip().split(',') for i in list(open('ratings.csv'))]\n",
    "# Primero seteamos algunos variables y objetos\n",
    "\n",
    "archivo.pop(0)                    # Ignoramos los headers del archivo\n",
    "n = archivo[0][0]                 # Primer id de usuario\n",
    "function = dict()                 # Field del vector\n",
    "movies_id = set()                 # Dominio del vector\n",
    "users = dict()                    # Diccionario a retornar, con todos los vectores\n",
    "for linea in archivo:\n",
    "    movies_id.add(linea[1])\n",
    "\n",
    "for linea in archivo:\n",
    "    user_id = linea[0]\n",
    "    if user_id == n:\n",
    "        id_movie = linea[1]\n",
    "        function[id_movie] = int(linea[2])\n",
    "        user_id = linea[0]\n",
    "    elif user_id != n:\n",
    "        vec = Vec(movies_id, function)\n",
    "        users[n] = vec\n",
    "        n = user_id\n",
    "        function = dict()\n",
    "\n",
    "# Tenemos el diccionario de cada vector de gustos por usuario "
   ]
  },
  {
   "cell_type": "markdown",
   "metadata": {},
   "source": [
    "### b)"
   ]
  },
  {
   "cell_type": "code",
   "execution_count": 20,
   "metadata": {},
   "outputs": [],
   "source": [
    "# Similar a la parte A\n",
    "\n",
    "archivo = [i.strip().split(',') for i in list(open('ratings.csv'))]\n",
    "\n",
    "archivo.pop(0)\n",
    "n = archivo[0][0]\n",
    "function = dict()\n",
    "movies = dict()\n",
    "users_id = set()\n",
    "\n",
    "# Obtenemos el dominio de todos los vectores que sera el set de los ids de users\n",
    "for linea in archivo:\n",
    "    users_id.add(linea[0])\n",
    "\n",
    "for linea in archivo:\n",
    "    user_id = linea[0]\n",
    "    if user_id == n:\n",
    "        id_movie = linea[1]\n",
    "        rating = linea[2]\n",
    "        function[user_id] = int(rating)\n",
    "    elif user_id != n:\n",
    "        vec = Vec(users_id, function)\n",
    "        movies[id_movie] = vec\n",
    "        n = user_id\n",
    "        function = dict()"
   ]
  },
  {
   "cell_type": "markdown",
   "metadata": {},
   "source": [
    "### c) "
   ]
  },
  {
   "cell_type": "code",
   "execution_count": 21,
   "metadata": {},
   "outputs": [],
   "source": [
    "# En esta funcion ingresan dos vectores y se calcula la similaridad del coseno\n",
    "\n",
    "def sim(u, v):\n",
    "    sim = (dot(u, v)) / (sqrt(dot(u, u)) * sqrt(dot(v, v)))\n",
    "    return sim\n",
    "\n",
    "\n",
    "\n",
    "# Itero cada user de 'users' y calculo la similaridad para posteriormente almacenar en un diccionario \n",
    "# su id_user y la similitud respectiva con el user pedido, por último ordemnamos de manera decreciente\n",
    "# para quedarnos y retornar con los primeros k\n",
    "\n",
    "def vecinos(users, user_id, k):\n",
    "    dict_simil = dict()\n",
    "    for i in range(len(users)):\n",
    "        if not users[str(i+1)] == users[user_id]:\n",
    "            similitud = sim(users[str(i+1)], users[user_id])\n",
    "            dict_simil[str(i+1)] = similitud\n",
    "    orden = sorted(dict_simil.items(), key = lambda x:x[1], reverse=True)\n",
    "    top_k = orden[:k]\n",
    "    return top_k\n"
   ]
  },
  {
   "cell_type": "markdown",
   "metadata": {},
   "source": [
    "#### Ejemplo parte c"
   ]
  },
  {
   "cell_type": "code",
   "execution_count": 23,
   "metadata": {},
   "outputs": [
    {
     "name": "stdout",
     "output_type": "stream",
     "text": [
      "[('913', 0.4118068187373492), ('748', 0.39172600297885474), ('650', 0.3799204168874656), ('882', 0.36837820085848094)]\n"
     ]
    }
   ],
   "source": [
    "# Prueba de la parte C\n",
    "# tenemos 'users' (diccionario con los vectores gusto de cada usuario), parte A\n",
    "\n",
    "# Ejemplo si queremos los 4 usuarios con gustos mas similares al usuario con id 25\n",
    "\n",
    "vecinos_25 = vecinos(users, '25', 4)\n",
    "print(vecinos_25)"
   ]
  },
  {
   "cell_type": "markdown",
   "metadata": {},
   "source": [
    "(d) Responda: ¿Cómo se puede ocupar la informaci ́on obtenida en (c) para generar recomendaciones para\n",
    "el usuario? Fundamente su respuesta. (4 pts.)\n",
    "\n",
    "Se puede modelar un sistema de recomendaciones mas eficiente respecto a los gustos personales de la personas, teniendo a los usuarios con gustos similares, la funcion permite realizar diferenciación entre las películas y dar las mejores opciones de acuerdo a los gustos de cada usuario, a partir de eso crear una situacion en que se le presente solamente lo mejor primero o con prioridad de lo \"ordenado\".\n",
    "\n",
    "\n",
    "(e) Reflexione: ¿cual es la ventaja de enfrentar este problema utilizando la clase Vec? ¿Que complicaciones\n",
    "podrıa tener enfrentar este mismo problema utilizando la clase ListVec?\n",
    "\n",
    "El mayor problema que podemos enfrentar a la hora de elegir una u otra clase es la eficiencia en la que se dara la recomendacion final y que luego de recolectara para un posible sistema de recomendados, ya que de alguna forma el vector que se dara podria tener una cantidad no querida de valores ceros finales (sparsity) que podria afectar la total recomendacion luego y no podria dar \"algo\" que uno quiere."
   ]
  },
  {
   "cell_type": "markdown",
   "metadata": {},
   "source": [
    "### Una aguja en un pajar"
   ]
  },
  {
   "cell_type": "markdown",
   "metadata": {},
   "source": [
    "a) Definimos el método similarity en el archivo \"listvec.py\". "
   ]
  },
  {
   "cell_type": "markdown",
   "metadata": {},
   "source": [
    "b) Definimos la función \"needle_search\" siguiendo el algoritmo de comparación propuesto en la sección 2.9.3 del libro Coding the Matrix Ed.1"
   ]
  },
  {
   "cell_type": "code",
   "execution_count": 33,
   "metadata": {},
   "outputs": [
    {
     "data": {
      "text/plain": [
       "[[1, -1, 1, 1, 1, -1], [1, 1, 1, -1, 1, 1], [1, 1, -1, 1, 1, 1]]"
      ]
     },
     "execution_count": 33,
     "metadata": {},
     "output_type": "execute_result"
    }
   ],
   "source": [
    "def needle_search(v: ListVec, u: ListVec):\n",
    "    #Establecemos 2 contadores y 3 listas para generar los segmentos a analizar y sus valores de similaridad  respectivos.\n",
    "    n = 0\n",
    "    m = 0\n",
    "    lista = []\n",
    "    lista_seg = []\n",
    "    lista_relacion = []\n",
    "    \n",
    "    # Si v > v\n",
    "    if len(v) > len(u):\n",
    "        # Identificamos cuales serán nuestros segmentos con el algoritmo propuesto en el libro.\n",
    "        for i in range(len(v)-len(u)+1):\n",
    "            for j in range(len(u)):\n",
    "                lista.append(v[j+n])\n",
    "            # Añadimos los segmentos generados y sus respectivos valores de similaridad en listas distintas.\n",
    "            lista_seg.append(lista)\n",
    "            lista_relacion.append(u.similarity(lista))\n",
    "            lista = []\n",
    "            n+=1\n",
    "    # Si u > v\n",
    "    else:\n",
    "        # Identificamos cuales serán nuestros segmentos con el algoritmo propuesto en el libro.\n",
    "        for i_1 in range(len(u)-len(v)+1):\n",
    "            for j_1 in range(len(v)):\n",
    "                lista.append(u[j_1+n])\n",
    "            # Añadimos los segmentos generados y sus respectivos valores de similaridad en listas distintas.\n",
    "            lista_seg.append(lista)\n",
    "            lista_relacion.append(v.similarity(lista))\n",
    "            lista = []\n",
    "            n+=1\n",
    "            \n",
    "    # Popeamos elementos de la lista de relación y verificamos si son menores o iguales que el mínimo valor\n",
    "    # de la misma para asegurarnos de tomar los elementos con mayor similaridad.       \n",
    "    while len(lista_seg) != 3:\n",
    "        x = lista_relacion.pop(m)\n",
    "        if x <= min(lista_relacion):\n",
    "            lista_seg.pop(m)\n",
    "        m+=1\n",
    "    \n",
    "    # Transformamos los elementos de la lista a la clase ListVec y la retornamos\n",
    "    lista_seg[0] = ListVec(lista_seg[0])\n",
    "    lista_seg[1] = ListVec(lista_seg[1])\n",
    "    lista_seg[2] = ListVec(lista_seg[2])\n",
    "    return lista_seg\n",
    "\n",
    "# Probamos la función para los vectores señalados en el ejemplo del libro.\n",
    "pajar = ListVec([1, -1, 1, 1, 1, -1, 1, 1, 1])\n",
    "aguja = ListVec([1, -1, 1, 1, -1, 1])\n",
    "\n",
    "needle_search(aguja, pajar)"
   ]
  },
  {
   "cell_type": "markdown",
   "metadata": {},
   "source": [
    "c) La función descrita en el item (b) tiene múltiples utilidades de búsqueda, ya que nos facilita el análisis que se puede realizar en una serie de datos donde nos interese hallar segmentos con valores similares a los datos que nos interesa comprobar, esto nos sirve para describir muchas situaciones de la vida cotidiana, desde temas tan variados como analizar partes de de una canción hasta encontrar una aguja en un pajar, otros usos que podría tener serían la clasificación de datos categóricos para adecuarlos a los gustos usuarios que deseen buscar algo en concreto, ya sean series, películas, libros, etc."
   ]
  }
 ],
 "metadata": {
  "kernelspec": {
   "display_name": "Python 3 (ipykernel)",
   "language": "python",
   "name": "python3"
  },
  "language_info": {
   "codemirror_mode": {
    "name": "ipython",
    "version": 3
   },
   "file_extension": ".py",
   "mimetype": "text/x-python",
   "name": "python",
   "nbconvert_exporter": "python",
   "pygments_lexer": "ipython3",
   "version": "3.10.2"
  }
 },
 "nbformat": 4,
 "nbformat_minor": 2
}
